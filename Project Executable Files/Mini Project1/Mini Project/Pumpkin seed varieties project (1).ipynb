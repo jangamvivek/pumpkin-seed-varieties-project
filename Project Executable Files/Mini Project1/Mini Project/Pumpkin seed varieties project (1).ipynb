{
 "cells": [
  {
   "cell_type": "code",
   "execution_count": 5,
   "id": "4e6ff080-ef70-466b-a8b9-360b1f22a3e4",
   "metadata": {},
   "outputs": [],
   "source": [
    "#importing the librares\n",
    "import numpy as np\n",
    "import pandas as pd\n",
    "import matplotlib.pyplot as plt\n",
    "import seaborn as sns"
   ]
  },
  {
   "cell_type": "code",
   "execution_count": 6,
   "id": "ddd913cb-b4fc-4bf2-85b1-c45e86f52a13",
   "metadata": {},
   "outputs": [
    {
     "data": {
      "text/html": [
       "<div>\n",
       "<style scoped>\n",
       "    .dataframe tbody tr th:only-of-type {\n",
       "        vertical-align: middle;\n",
       "    }\n",
       "\n",
       "    .dataframe tbody tr th {\n",
       "        vertical-align: top;\n",
       "    }\n",
       "\n",
       "    .dataframe thead th {\n",
       "        text-align: right;\n",
       "    }\n",
       "</style>\n",
       "<table border=\"1\" class=\"dataframe\">\n",
       "  <thead>\n",
       "    <tr style=\"text-align: right;\">\n",
       "      <th></th>\n",
       "      <th>Area</th>\n",
       "      <th>Perimeter</th>\n",
       "      <th>Major_Axis_Length</th>\n",
       "      <th>Minor_Axis_Length</th>\n",
       "      <th>Convex_Area</th>\n",
       "      <th>Equiv_Diameter</th>\n",
       "      <th>Eccentricity</th>\n",
       "      <th>Solidity</th>\n",
       "      <th>Extent</th>\n",
       "      <th>Roundness</th>\n",
       "      <th>Aspect_Ration</th>\n",
       "      <th>Compactness</th>\n",
       "      <th>Class</th>\n",
       "    </tr>\n",
       "  </thead>\n",
       "  <tbody>\n",
       "    <tr>\n",
       "      <th>0</th>\n",
       "      <td>56276</td>\n",
       "      <td>888.242</td>\n",
       "      <td>326.1485</td>\n",
       "      <td>220.2388</td>\n",
       "      <td>56831</td>\n",
       "      <td>267.6805</td>\n",
       "      <td>0.7376</td>\n",
       "      <td>0.9902</td>\n",
       "      <td>0.7453</td>\n",
       "      <td>0.8963</td>\n",
       "      <td>1.4809</td>\n",
       "      <td>0.8207</td>\n",
       "      <td>Çerçevelik</td>\n",
       "    </tr>\n",
       "    <tr>\n",
       "      <th>1</th>\n",
       "      <td>76631</td>\n",
       "      <td>1068.146</td>\n",
       "      <td>417.1932</td>\n",
       "      <td>234.2289</td>\n",
       "      <td>77280</td>\n",
       "      <td>312.3614</td>\n",
       "      <td>0.8275</td>\n",
       "      <td>0.9916</td>\n",
       "      <td>0.7151</td>\n",
       "      <td>0.8440</td>\n",
       "      <td>1.7811</td>\n",
       "      <td>0.7487</td>\n",
       "      <td>Çerçevelik</td>\n",
       "    </tr>\n",
       "    <tr>\n",
       "      <th>2</th>\n",
       "      <td>71623</td>\n",
       "      <td>1082.987</td>\n",
       "      <td>435.8328</td>\n",
       "      <td>211.0457</td>\n",
       "      <td>72663</td>\n",
       "      <td>301.9822</td>\n",
       "      <td>0.8749</td>\n",
       "      <td>0.9857</td>\n",
       "      <td>0.7400</td>\n",
       "      <td>0.7674</td>\n",
       "      <td>2.0651</td>\n",
       "      <td>0.6929</td>\n",
       "      <td>Çerçevelik</td>\n",
       "    </tr>\n",
       "    <tr>\n",
       "      <th>3</th>\n",
       "      <td>66458</td>\n",
       "      <td>992.051</td>\n",
       "      <td>381.5638</td>\n",
       "      <td>222.5322</td>\n",
       "      <td>67118</td>\n",
       "      <td>290.8899</td>\n",
       "      <td>0.8123</td>\n",
       "      <td>0.9902</td>\n",
       "      <td>0.7396</td>\n",
       "      <td>0.8486</td>\n",
       "      <td>1.7146</td>\n",
       "      <td>0.7624</td>\n",
       "      <td>Çerçevelik</td>\n",
       "    </tr>\n",
       "    <tr>\n",
       "      <th>4</th>\n",
       "      <td>66107</td>\n",
       "      <td>998.146</td>\n",
       "      <td>383.8883</td>\n",
       "      <td>220.4545</td>\n",
       "      <td>67117</td>\n",
       "      <td>290.1207</td>\n",
       "      <td>0.8187</td>\n",
       "      <td>0.9850</td>\n",
       "      <td>0.6752</td>\n",
       "      <td>0.8338</td>\n",
       "      <td>1.7413</td>\n",
       "      <td>0.7557</td>\n",
       "      <td>Çerçevelik</td>\n",
       "    </tr>\n",
       "    <tr>\n",
       "      <th>...</th>\n",
       "      <td>...</td>\n",
       "      <td>...</td>\n",
       "      <td>...</td>\n",
       "      <td>...</td>\n",
       "      <td>...</td>\n",
       "      <td>...</td>\n",
       "      <td>...</td>\n",
       "      <td>...</td>\n",
       "      <td>...</td>\n",
       "      <td>...</td>\n",
       "      <td>...</td>\n",
       "      <td>...</td>\n",
       "      <td>...</td>\n",
       "    </tr>\n",
       "    <tr>\n",
       "      <th>2495</th>\n",
       "      <td>79637</td>\n",
       "      <td>1224.710</td>\n",
       "      <td>533.1513</td>\n",
       "      <td>190.4367</td>\n",
       "      <td>80381</td>\n",
       "      <td>318.4289</td>\n",
       "      <td>0.9340</td>\n",
       "      <td>0.9907</td>\n",
       "      <td>0.4888</td>\n",
       "      <td>0.6672</td>\n",
       "      <td>2.7996</td>\n",
       "      <td>0.5973</td>\n",
       "      <td>Ürgüp Sivrisi</td>\n",
       "    </tr>\n",
       "    <tr>\n",
       "      <th>2496</th>\n",
       "      <td>69647</td>\n",
       "      <td>1084.318</td>\n",
       "      <td>462.9416</td>\n",
       "      <td>191.8210</td>\n",
       "      <td>70216</td>\n",
       "      <td>297.7874</td>\n",
       "      <td>0.9101</td>\n",
       "      <td>0.9919</td>\n",
       "      <td>0.6002</td>\n",
       "      <td>0.7444</td>\n",
       "      <td>2.4134</td>\n",
       "      <td>0.6433</td>\n",
       "      <td>Ürgüp Sivrisi</td>\n",
       "    </tr>\n",
       "    <tr>\n",
       "      <th>2497</th>\n",
       "      <td>87994</td>\n",
       "      <td>1210.314</td>\n",
       "      <td>507.2200</td>\n",
       "      <td>222.1872</td>\n",
       "      <td>88702</td>\n",
       "      <td>334.7199</td>\n",
       "      <td>0.8990</td>\n",
       "      <td>0.9920</td>\n",
       "      <td>0.7643</td>\n",
       "      <td>0.7549</td>\n",
       "      <td>2.2828</td>\n",
       "      <td>0.6599</td>\n",
       "      <td>Ürgüp Sivrisi</td>\n",
       "    </tr>\n",
       "    <tr>\n",
       "      <th>2498</th>\n",
       "      <td>80011</td>\n",
       "      <td>1182.947</td>\n",
       "      <td>501.9065</td>\n",
       "      <td>204.7531</td>\n",
       "      <td>80902</td>\n",
       "      <td>319.1758</td>\n",
       "      <td>0.9130</td>\n",
       "      <td>0.9890</td>\n",
       "      <td>0.7374</td>\n",
       "      <td>0.7185</td>\n",
       "      <td>2.4513</td>\n",
       "      <td>0.6359</td>\n",
       "      <td>Ürgüp Sivrisi</td>\n",
       "    </tr>\n",
       "    <tr>\n",
       "      <th>2499</th>\n",
       "      <td>84934</td>\n",
       "      <td>1159.933</td>\n",
       "      <td>462.8951</td>\n",
       "      <td>234.5597</td>\n",
       "      <td>85781</td>\n",
       "      <td>328.8485</td>\n",
       "      <td>0.8621</td>\n",
       "      <td>0.9901</td>\n",
       "      <td>0.7360</td>\n",
       "      <td>0.7933</td>\n",
       "      <td>1.9735</td>\n",
       "      <td>0.7104</td>\n",
       "      <td>Ürgüp Sivrisi</td>\n",
       "    </tr>\n",
       "  </tbody>\n",
       "</table>\n",
       "<p>2500 rows × 13 columns</p>\n",
       "</div>"
      ],
      "text/plain": [
       "       Area  Perimeter  Major_Axis_Length  Minor_Axis_Length  Convex_Area  \\\n",
       "0     56276    888.242           326.1485           220.2388        56831   \n",
       "1     76631   1068.146           417.1932           234.2289        77280   \n",
       "2     71623   1082.987           435.8328           211.0457        72663   \n",
       "3     66458    992.051           381.5638           222.5322        67118   \n",
       "4     66107    998.146           383.8883           220.4545        67117   \n",
       "...     ...        ...                ...                ...          ...   \n",
       "2495  79637   1224.710           533.1513           190.4367        80381   \n",
       "2496  69647   1084.318           462.9416           191.8210        70216   \n",
       "2497  87994   1210.314           507.2200           222.1872        88702   \n",
       "2498  80011   1182.947           501.9065           204.7531        80902   \n",
       "2499  84934   1159.933           462.8951           234.5597        85781   \n",
       "\n",
       "      Equiv_Diameter  Eccentricity  Solidity  Extent  Roundness  \\\n",
       "0           267.6805        0.7376    0.9902  0.7453     0.8963   \n",
       "1           312.3614        0.8275    0.9916  0.7151     0.8440   \n",
       "2           301.9822        0.8749    0.9857  0.7400     0.7674   \n",
       "3           290.8899        0.8123    0.9902  0.7396     0.8486   \n",
       "4           290.1207        0.8187    0.9850  0.6752     0.8338   \n",
       "...              ...           ...       ...     ...        ...   \n",
       "2495        318.4289        0.9340    0.9907  0.4888     0.6672   \n",
       "2496        297.7874        0.9101    0.9919  0.6002     0.7444   \n",
       "2497        334.7199        0.8990    0.9920  0.7643     0.7549   \n",
       "2498        319.1758        0.9130    0.9890  0.7374     0.7185   \n",
       "2499        328.8485        0.8621    0.9901  0.7360     0.7933   \n",
       "\n",
       "      Aspect_Ration  Compactness          Class  \n",
       "0            1.4809       0.8207     Çerçevelik  \n",
       "1            1.7811       0.7487     Çerçevelik  \n",
       "2            2.0651       0.6929     Çerçevelik  \n",
       "3            1.7146       0.7624     Çerçevelik  \n",
       "4            1.7413       0.7557     Çerçevelik  \n",
       "...             ...          ...            ...  \n",
       "2495         2.7996       0.5973  Ürgüp Sivrisi  \n",
       "2496         2.4134       0.6433  Ürgüp Sivrisi  \n",
       "2497         2.2828       0.6599  Ürgüp Sivrisi  \n",
       "2498         2.4513       0.6359  Ürgüp Sivrisi  \n",
       "2499         1.9735       0.7104  Ürgüp Sivrisi  \n",
       "\n",
       "[2500 rows x 13 columns]"
      ]
     },
     "execution_count": 6,
     "metadata": {},
     "output_type": "execute_result"
    }
   ],
   "source": [
    "df=pd.read_csv(\"Pumpkin_Seeds_Dataset.xlsx - Pumpkin_Seeds_Dataset.csv\",sep=\",\")\n",
    "df"
   ]
  },
  {
   "cell_type": "code",
   "execution_count": 7,
   "id": "ef6a3be4-baf7-4494-b1e2-7b27338cf159",
   "metadata": {},
   "outputs": [
    {
     "name": "stdout",
     "output_type": "stream",
     "text": [
      "<class 'pandas.core.frame.DataFrame'>\n",
      "RangeIndex: 2500 entries, 0 to 2499\n",
      "Data columns (total 13 columns):\n",
      " #   Column             Non-Null Count  Dtype  \n",
      "---  ------             --------------  -----  \n",
      " 0   Area               2500 non-null   int64  \n",
      " 1   Perimeter          2500 non-null   float64\n",
      " 2   Major_Axis_Length  2500 non-null   float64\n",
      " 3   Minor_Axis_Length  2500 non-null   float64\n",
      " 4   Convex_Area        2500 non-null   int64  \n",
      " 5   Equiv_Diameter     2500 non-null   float64\n",
      " 6   Eccentricity       2500 non-null   float64\n",
      " 7   Solidity           2500 non-null   float64\n",
      " 8   Extent             2500 non-null   float64\n",
      " 9   Roundness          2500 non-null   float64\n",
      " 10  Aspect_Ration      2500 non-null   float64\n",
      " 11  Compactness        2500 non-null   float64\n",
      " 12  Class              2500 non-null   object \n",
      "dtypes: float64(10), int64(2), object(1)\n",
      "memory usage: 254.0+ KB\n"
     ]
    }
   ],
   "source": [
    "df.info()"
   ]
  },
  {
   "cell_type": "code",
   "execution_count": 8,
   "id": "03a1dfc0-9da0-47a2-9552-74235b18e7bd",
   "metadata": {},
   "outputs": [
    {
     "data": {
      "text/plain": [
       "(2500, 13)"
      ]
     },
     "execution_count": 8,
     "metadata": {},
     "output_type": "execute_result"
    }
   ],
   "source": [
    "df.shape"
   ]
  },
  {
   "cell_type": "code",
   "execution_count": 9,
   "id": "f8dcbbd8-0d75-43a1-947c-2204dc1fa42a",
   "metadata": {},
   "outputs": [
    {
     "data": {
      "text/plain": [
       "Area                 0\n",
       "Perimeter            0\n",
       "Major_Axis_Length    0\n",
       "Minor_Axis_Length    0\n",
       "Convex_Area          0\n",
       "Equiv_Diameter       0\n",
       "Eccentricity         0\n",
       "Solidity             0\n",
       "Extent               0\n",
       "Roundness            0\n",
       "Aspect_Ration        0\n",
       "Compactness          0\n",
       "Class                0\n",
       "dtype: int64"
      ]
     },
     "execution_count": 9,
     "metadata": {},
     "output_type": "execute_result"
    }
   ],
   "source": [
    "df.isnull().sum()"
   ]
  },
  {
   "cell_type": "code",
   "execution_count": 10,
   "id": "ac6752e8-c793-49f3-948a-6090f09c167c",
   "metadata": {},
   "outputs": [
    {
     "data": {
      "text/plain": [
       "<Axes: xlabel='Area'>"
      ]
     },
     "execution_count": 10,
     "metadata": {},
     "output_type": "execute_result"
    },
    {
     "data": {
      "image/png": "[encoded data removed]",
      "text/plain": [
       "<Figure size 640x480 with 1 Axes>"
      ]
     },
     "metadata": {},
     "output_type": "display_data"
    }
   ],
   "source": [
    "sns.boxplot(x = df['Area'])"
   ]
  },
  {
   "cell_type": "code",
   "execution_count": 11,
   "id": "c07d82ac-2ec4-48db-8c7e-3fa04cd95861",
   "metadata": {},
   "outputs": [],
   "source": [
    "# removing the outlier\n",
    "# calculate the first and third quartiles\n",
    "Q1 = df[\"Area\"].quantile(0.25)\n",
    "Q3 = df[\"Area\"].quantile(0.75)\n",
    "\n",
    "#calculate the interquartile range(IQR)\n",
    "IQR = Q3 - Q1\n",
    "\n",
    "#Define the lower and upper bounds\n",
    "lower_bound = Q1 - 1.5 * IQR\n",
    "upper_bound = Q3 + 1.5 * IQR\n",
    "\n",
    "#filter out outliers\n",
    "df = df[(df[\"Area\"] >= lower_bound) & (df[\"Area\"] <= upper_bound)]"
   ]
  },
  {
   "cell_type": "code",
   "execution_count": 12,
   "id": "0e01ce48-c788-4dd7-b13d-c9060003acc4",
   "metadata": {},
   "outputs": [
    {
     "data": {
      "text/plain": [
       "<Axes: xlabel='Area'>"
      ]
     },
     "execution_count": 12,
     "metadata": {},
     "output_type": "execute_result"
    },
    {
     "data": {
      "image/png": "[encoded data removed]",
      "text/plain": [
       "<Figure size 640x480 with 1 Axes>"
      ]
     },
     "metadata": {},
     "output_type": "display_data"
    }
   ],
   "source": [
    "sns.boxplot(x = df['Area'])"
   ]
  },
  {
   "cell_type": "code",
   "execution_count": 13,
   "id": "898de712-16d7-48b2-8b9e-f903181fa505",
   "metadata": {},
   "outputs": [],
   "source": [
    "from sklearn.preprocessing import MinMaxScaler\n",
    "columns_to_scale= ['Area','Perimeter','Major_Axis_Length']"
   ]
  },
  {
   "cell_type": "code",
   "execution_count": 14,
   "id": "cc00b5f7-f6ee-4d1b-9b6c-f6dbbe5d4cf8",
   "metadata": {},
   "outputs": [
    {
     "name": "stderr",
     "output_type": "stream",
     "text": [
      "C:\\Users\\LENOVO\\AppData\\Local\\Temp\\ipykernel_36784\\924122059.py:3: SettingWithCopyWarning: \n",
      "A value is trying to be set on a copy of a slice from a DataFrame.\n",
      "Try using .loc[row_indexer,col_indexer] = value instead\n",
      "\n",
      "See the caveats in the documentation: https://pandas.pydata.org/pandas-docs/stable/user_guide/indexing.html#returning-a-view-versus-a-copy\n",
      "  df[columns_to_scale] = scaler.fit_transform(df[columns_to_scale])\n"
     ]
    }
   ],
   "source": [
    "# Apply MinMaxScaler only to selected columns\n",
    "scaler = MinMaxScaler()\n",
    "df[columns_to_scale] = scaler.fit_transform(df[columns_to_scale])"
   ]
  },
  {
   "cell_type": "code",
   "execution_count": 15,
   "id": "4442d160-5dbd-4fbd-b02e-89a630e12e60",
   "metadata": {},
   "outputs": [
    {
     "name": "stdout",
     "output_type": "stream",
     "text": [
      "          Area  Perimeter  Major_Axis_Length  Minor_Axis_Length  Convex_Area  \\\n",
      "0     0.119284   0.033709           0.016192           220.2388        56831   \n",
      "1     0.410519   0.340661           0.294143           234.2289        77280   \n",
      "2     0.338866   0.365983           0.351048           211.0457        72663   \n",
      "3     0.264966   0.210828           0.185370           222.5322        67118   \n",
      "4     0.259944   0.221228           0.192467           220.4545        67117   \n",
      "...        ...        ...                ...                ...          ...   \n",
      "2495  0.453528   0.607791           0.648153           190.4367        80381   \n",
      "2496  0.310593   0.368254           0.433809           191.8210        70216   \n",
      "2497  0.573098   0.583228           0.568987           222.1872        88702   \n",
      "2498  0.458879   0.536535           0.552765           204.7531        80902   \n",
      "2499  0.529317   0.497268           0.433667           234.5597        85781   \n",
      "\n",
      "      Equiv_Diameter  Eccentricity  Solidity  Extent  Roundness  \\\n",
      "0           267.6805        0.7376    0.9902  0.7453     0.8963   \n",
      "1           312.3614        0.8275    0.9916  0.7151     0.8440   \n",
      "2           301.9822        0.8749    0.9857  0.7400     0.7674   \n",
      "3           290.8899        0.8123    0.9902  0.7396     0.8486   \n",
      "4           290.1207        0.8187    0.9850  0.6752     0.8338   \n",
      "...              ...           ...       ...     ...        ...   \n",
      "2495        318.4289        0.9340    0.9907  0.4888     0.6672   \n",
      "2496        297.7874        0.9101    0.9919  0.6002     0.7444   \n",
      "2497        334.7199        0.8990    0.9920  0.7643     0.7549   \n",
      "2498        319.1758        0.9130    0.9890  0.7374     0.7185   \n",
      "2499        328.8485        0.8621    0.9901  0.7360     0.7933   \n",
      "\n",
      "      Aspect_Ration  Compactness          Class  \n",
      "0            1.4809       0.8207     Çerçevelik  \n",
      "1            1.7811       0.7487     Çerçevelik  \n",
      "2            2.0651       0.6929     Çerçevelik  \n",
      "3            1.7146       0.7624     Çerçevelik  \n",
      "4            1.7413       0.7557     Çerçevelik  \n",
      "...             ...          ...            ...  \n",
      "2495         2.7996       0.5973  Ürgüp Sivrisi  \n",
      "2496         2.4134       0.6433  Ürgüp Sivrisi  \n",
      "2497         2.2828       0.6599  Ürgüp Sivrisi  \n",
      "2498         2.4513       0.6359  Ürgüp Sivrisi  \n",
      "2499         1.9735       0.7104  Ürgüp Sivrisi  \n",
      "\n",
      "[2482 rows x 13 columns]\n"
     ]
    }
   ],
   "source": [
    "# Display the resulting DataFrame\n",
    "print(df)"
   ]
  },
  {
   "cell_type": "code",
   "execution_count": 16,
   "id": "964d1ca4-2b74-431c-95b7-110ba3d45d45",
   "metadata": {},
   "outputs": [
    {
     "data": {
      "text/html": [
       "<div>\n",
       "<style scoped>\n",
       "    .dataframe tbody tr th:only-of-type {\n",
       "        vertical-align: middle;\n",
       "    }\n",
       "\n",
       "    .dataframe tbody tr th {\n",
       "        vertical-align: top;\n",
       "    }\n",
       "\n",
       "    .dataframe thead th {\n",
       "        text-align: right;\n",
       "    }\n",
       "</style>\n",
       "<table border=\"1\" class=\"dataframe\">\n",
       "  <thead>\n",
       "    <tr style=\"text-align: right;\">\n",
       "      <th></th>\n",
       "      <th>Area</th>\n",
       "      <th>Perimeter</th>\n",
       "      <th>Major_Axis_Length</th>\n",
       "      <th>Minor_Axis_Length</th>\n",
       "      <th>Convex_Area</th>\n",
       "      <th>Equiv_Diameter</th>\n",
       "      <th>Eccentricity</th>\n",
       "      <th>Solidity</th>\n",
       "      <th>Extent</th>\n",
       "      <th>Roundness</th>\n",
       "      <th>Aspect_Ration</th>\n",
       "      <th>Compactness</th>\n",
       "    </tr>\n",
       "  </thead>\n",
       "  <tbody>\n",
       "    <tr>\n",
       "      <th>count</th>\n",
       "      <td>2482.000000</td>\n",
       "      <td>2482.000000</td>\n",
       "      <td>2482.000000</td>\n",
       "      <td>2482.000000</td>\n",
       "      <td>2482.000000</td>\n",
       "      <td>2482.000000</td>\n",
       "      <td>2482.000000</td>\n",
       "      <td>2482.000000</td>\n",
       "      <td>2482.000000</td>\n",
       "      <td>2482.000000</td>\n",
       "      <td>2482.000000</td>\n",
       "      <td>2482.000000</td>\n",
       "    </tr>\n",
       "    <tr>\n",
       "      <th>mean</th>\n",
       "      <td>0.463459</td>\n",
       "      <td>0.442677</td>\n",
       "      <td>0.411127</td>\n",
       "      <td>225.505553</td>\n",
       "      <td>81179.048751</td>\n",
       "      <td>318.748695</td>\n",
       "      <td>0.860620</td>\n",
       "      <td>0.989479</td>\n",
       "      <td>0.693502</td>\n",
       "      <td>0.791838</td>\n",
       "      <td>2.039858</td>\n",
       "      <td>0.704435</td>\n",
       "    </tr>\n",
       "    <tr>\n",
       "      <th>std</th>\n",
       "      <td>0.188186</td>\n",
       "      <td>0.180938</td>\n",
       "      <td>0.167586</td>\n",
       "      <td>23.094748</td>\n",
       "      <td>13249.936542</td>\n",
       "      <td>26.081716</td>\n",
       "      <td>0.045183</td>\n",
       "      <td>0.003499</td>\n",
       "      <td>0.060676</td>\n",
       "      <td>0.055916</td>\n",
       "      <td>0.315819</td>\n",
       "      <td>0.053053</td>\n",
       "    </tr>\n",
       "    <tr>\n",
       "      <th>min</th>\n",
       "      <td>0.000000</td>\n",
       "      <td>0.000000</td>\n",
       "      <td>0.000000</td>\n",
       "      <td>152.171800</td>\n",
       "      <td>48366.000000</td>\n",
       "      <td>247.058400</td>\n",
       "      <td>0.492100</td>\n",
       "      <td>0.918600</td>\n",
       "      <td>0.468000</td>\n",
       "      <td>0.554600</td>\n",
       "      <td>1.148700</td>\n",
       "      <td>0.560800</td>\n",
       "    </tr>\n",
       "    <tr>\n",
       "      <th>25%</th>\n",
       "      <td>0.325145</td>\n",
       "      <td>0.307016</td>\n",
       "      <td>0.285968</td>\n",
       "      <td>211.110100</td>\n",
       "      <td>71449.500000</td>\n",
       "      <td>299.953675</td>\n",
       "      <td>0.831525</td>\n",
       "      <td>0.988300</td>\n",
       "      <td>0.659300</td>\n",
       "      <td>0.752325</td>\n",
       "      <td>1.800325</td>\n",
       "      <td>0.663900</td>\n",
       "    </tr>\n",
       "    <tr>\n",
       "      <th>50%</th>\n",
       "      <td>0.443448</td>\n",
       "      <td>0.433898</td>\n",
       "      <td>0.391094</td>\n",
       "      <td>224.478400</td>\n",
       "      <td>79802.500000</td>\n",
       "      <td>317.017300</td>\n",
       "      <td>0.863500</td>\n",
       "      <td>0.990300</td>\n",
       "      <td>0.713250</td>\n",
       "      <td>0.798200</td>\n",
       "      <td>1.982850</td>\n",
       "      <td>0.707900</td>\n",
       "    </tr>\n",
       "    <tr>\n",
       "      <th>75%</th>\n",
       "      <td>0.592092</td>\n",
       "      <td>0.567014</td>\n",
       "      <td>0.522056</td>\n",
       "      <td>240.022600</td>\n",
       "      <td>90430.250000</td>\n",
       "      <td>337.235300</td>\n",
       "      <td>0.896675</td>\n",
       "      <td>0.991500</td>\n",
       "      <td>0.740275</td>\n",
       "      <td>0.834575</td>\n",
       "      <td>2.258775</td>\n",
       "      <td>0.743700</td>\n",
       "    </tr>\n",
       "    <tr>\n",
       "      <th>max</th>\n",
       "      <td>1.000000</td>\n",
       "      <td>1.000000</td>\n",
       "      <td>1.000000</td>\n",
       "      <td>305.818000</td>\n",
       "      <td>118597.000000</td>\n",
       "      <td>387.333300</td>\n",
       "      <td>0.948100</td>\n",
       "      <td>0.994400</td>\n",
       "      <td>0.829600</td>\n",
       "      <td>0.939600</td>\n",
       "      <td>3.144400</td>\n",
       "      <td>0.904900</td>\n",
       "    </tr>\n",
       "  </tbody>\n",
       "</table>\n",
       "</div>"
      ],
      "text/plain": [
       "              Area    Perimeter  Major_Axis_Length  Minor_Axis_Length  \\\n",
       "count  2482.000000  2482.000000        2482.000000        2482.000000   \n",
       "mean      0.463459     0.442677           0.411127         225.505553   \n",
       "std       0.188186     0.180938           0.167586          23.094748   \n",
       "min       0.000000     0.000000           0.000000         152.171800   \n",
       "25%       0.325145     0.307016           0.285968         211.110100   \n",
       "50%       0.443448     0.433898           0.391094         224.478400   \n",
       "75%       0.592092     0.567014           0.522056         240.022600   \n",
       "max       1.000000     1.000000           1.000000         305.818000   \n",
       "\n",
       "         Convex_Area  Equiv_Diameter  Eccentricity     Solidity       Extent  \\\n",
       "count    2482.000000     2482.000000   2482.000000  2482.000000  2482.000000   \n",
       "mean    81179.048751      318.748695      0.860620     0.989479     0.693502   \n",
       "std     13249.936542       26.081716      0.045183     0.003499     0.060676   \n",
       "min     48366.000000      247.058400      0.492100     0.918600     0.468000   \n",
       "25%     71449.500000      299.953675      0.831525     0.988300     0.659300   \n",
       "50%     79802.500000      317.017300      0.863500     0.990300     0.713250   \n",
       "75%     90430.250000      337.235300      0.896675     0.991500     0.740275   \n",
       "max    118597.000000      387.333300      0.948100     0.994400     0.829600   \n",
       "\n",
       "         Roundness  Aspect_Ration  Compactness  \n",
       "count  2482.000000    2482.000000  2482.000000  \n",
       "mean      0.791838       2.039858     0.704435  \n",
       "std       0.055916       0.315819     0.053053  \n",
       "min       0.554600       1.148700     0.560800  \n",
       "25%       0.752325       1.800325     0.663900  \n",
       "50%       0.798200       1.982850     0.707900  \n",
       "75%       0.834575       2.258775     0.743700  \n",
       "max       0.939600       3.144400     0.904900  "
      ]
     },
     "execution_count": 16,
     "metadata": {},
     "output_type": "execute_result"
    }
   ],
   "source": [
    "df.describe()"
   ]
  },
  {
   "cell_type": "code",
   "execution_count": 17,
   "id": "c13edc75-7e7b-4e75-8814-cad4760830b9",
   "metadata": {},
   "outputs": [
    {
     "data": {
      "image/png": "[encoded data removed]",
      "text/plain": [
       "<Figure size 600x600 with 1 Axes>"
      ]
     },
     "metadata": {},
     "output_type": "display_data"
    }
   ],
   "source": [
    "#counting the class values\n",
    "plt.figure(figsize=(6,6))\n",
    "sns.countplot(data=df,x='Class')\n",
    "plt.show()"
   ]
  },
  {
   "cell_type": "code",
   "execution_count": 18,
   "id": "616a7064-a8bc-4563-97c5-b772ce63a470",
   "metadata": {},
   "outputs": [
    {
     "data": {
      "image/png": "[encoded data removed]",
      "text/plain": [
       "<Figure size 600x600 with 1 Axes>"
      ]
     },
     "metadata": {},
     "output_type": "display_data"
    }
   ],
   "source": [
    "plt.figure(figsize=(6,6))\n",
    "plt.scatter(df['Area'],df['Perimeter'])\n",
    "plt.title(f'Scatter Plot of area vs Perimeter')\n",
    "plt.xlabel(\"Area\")\n",
    "plt.ylabel(\"Perimeter\")\n",
    "plt.grid(True)\n",
    "plt.show()"
   ]
  },
  {
   "cell_type": "code",
   "execution_count": 19,
   "id": "c1c036bc-ce0f-4346-91c8-f0969b8a2797",
   "metadata": {},
   "outputs": [
    {
     "data": {
      "image/png": "[encoded data removed]",
      "text/plain": [
       "<Figure size 1000x800 with 2 Axes>"
      ]
     },
     "metadata": {},
     "output_type": "display_data"
    }
   ],
   "source": [
    "numeric_df = df.select_dtypes(include=[np.number])\n",
    "sns.heatmap(numeric_df.corr(), annot=True, linewidths=0.2)\n",
    "fig = plt.gcf()\n",
    "fig.set_size_inches(10, 8)\n",
    "plt.show()"
   ]
  },
  {
   "cell_type": "code",
   "execution_count": 20,
   "id": "cf763608-d784-49e8-9cf8-1db53e581a0f",
   "metadata": {},
   "outputs": [],
   "source": [
    "#dropping columns\n",
    "df=df.drop(['Convex_Area','Equiv_Diameter'],axis=1)"
   ]
  },
  {
   "cell_type": "code",
   "execution_count": 21,
   "id": "54e9e696-9987-40f2-8e41-b4ecc5810d15",
   "metadata": {},
   "outputs": [
    {
     "data": {
      "text/html": [
       "<div>\n",
       "<style scoped>\n",
       "    .dataframe tbody tr th:only-of-type {\n",
       "        vertical-align: middle;\n",
       "    }\n",
       "\n",
       "    .dataframe tbody tr th {\n",
       "        vertical-align: top;\n",
       "    }\n",
       "\n",
       "    .dataframe thead th {\n",
       "        text-align: right;\n",
       "    }\n",
       "</style>\n",
       "<table border=\"1\" class=\"dataframe\">\n",
       "  <thead>\n",
       "    <tr style=\"text-align: right;\">\n",
       "      <th></th>\n",
       "      <th>Area</th>\n",
       "      <th>Perimeter</th>\n",
       "      <th>Major_Axis_Length</th>\n",
       "      <th>Minor_Axis_Length</th>\n",
       "      <th>Eccentricity</th>\n",
       "      <th>Solidity</th>\n",
       "      <th>Extent</th>\n",
       "      <th>Roundness</th>\n",
       "      <th>Aspect_Ration</th>\n",
       "      <th>Compactness</th>\n",
       "      <th>Class</th>\n",
       "    </tr>\n",
       "  </thead>\n",
       "  <tbody>\n",
       "    <tr>\n",
       "      <th>0</th>\n",
       "      <td>0.119284</td>\n",
       "      <td>0.033709</td>\n",
       "      <td>0.016192</td>\n",
       "      <td>220.2388</td>\n",
       "      <td>0.7376</td>\n",
       "      <td>0.9902</td>\n",
       "      <td>0.7453</td>\n",
       "      <td>0.8963</td>\n",
       "      <td>1.4809</td>\n",
       "      <td>0.8207</td>\n",
       "      <td>Çerçevelik</td>\n",
       "    </tr>\n",
       "    <tr>\n",
       "      <th>1</th>\n",
       "      <td>0.410519</td>\n",
       "      <td>0.340661</td>\n",
       "      <td>0.294143</td>\n",
       "      <td>234.2289</td>\n",
       "      <td>0.8275</td>\n",
       "      <td>0.9916</td>\n",
       "      <td>0.7151</td>\n",
       "      <td>0.8440</td>\n",
       "      <td>1.7811</td>\n",
       "      <td>0.7487</td>\n",
       "      <td>Çerçevelik</td>\n",
       "    </tr>\n",
       "    <tr>\n",
       "      <th>2</th>\n",
       "      <td>0.338866</td>\n",
       "      <td>0.365983</td>\n",
       "      <td>0.351048</td>\n",
       "      <td>211.0457</td>\n",
       "      <td>0.8749</td>\n",
       "      <td>0.9857</td>\n",
       "      <td>0.7400</td>\n",
       "      <td>0.7674</td>\n",
       "      <td>2.0651</td>\n",
       "      <td>0.6929</td>\n",
       "      <td>Çerçevelik</td>\n",
       "    </tr>\n",
       "    <tr>\n",
       "      <th>3</th>\n",
       "      <td>0.264966</td>\n",
       "      <td>0.210828</td>\n",
       "      <td>0.185370</td>\n",
       "      <td>222.5322</td>\n",
       "      <td>0.8123</td>\n",
       "      <td>0.9902</td>\n",
       "      <td>0.7396</td>\n",
       "      <td>0.8486</td>\n",
       "      <td>1.7146</td>\n",
       "      <td>0.7624</td>\n",
       "      <td>Çerçevelik</td>\n",
       "    </tr>\n",
       "    <tr>\n",
       "      <th>4</th>\n",
       "      <td>0.259944</td>\n",
       "      <td>0.221228</td>\n",
       "      <td>0.192467</td>\n",
       "      <td>220.4545</td>\n",
       "      <td>0.8187</td>\n",
       "      <td>0.9850</td>\n",
       "      <td>0.6752</td>\n",
       "      <td>0.8338</td>\n",
       "      <td>1.7413</td>\n",
       "      <td>0.7557</td>\n",
       "      <td>Çerçevelik</td>\n",
       "    </tr>\n",
       "  </tbody>\n",
       "</table>\n",
       "</div>"
      ],
      "text/plain": [
       "       Area  Perimeter  Major_Axis_Length  Minor_Axis_Length  Eccentricity  \\\n",
       "0  0.119284   0.033709           0.016192           220.2388        0.7376   \n",
       "1  0.410519   0.340661           0.294143           234.2289        0.8275   \n",
       "2  0.338866   0.365983           0.351048           211.0457        0.8749   \n",
       "3  0.264966   0.210828           0.185370           222.5322        0.8123   \n",
       "4  0.259944   0.221228           0.192467           220.4545        0.8187   \n",
       "\n",
       "   Solidity  Extent  Roundness  Aspect_Ration  Compactness       Class  \n",
       "0    0.9902  0.7453     0.8963         1.4809       0.8207  Çerçevelik  \n",
       "1    0.9916  0.7151     0.8440         1.7811       0.7487  Çerçevelik  \n",
       "2    0.9857  0.7400     0.7674         2.0651       0.6929  Çerçevelik  \n",
       "3    0.9902  0.7396     0.8486         1.7146       0.7624  Çerçevelik  \n",
       "4    0.9850  0.6752     0.8338         1.7413       0.7557  Çerçevelik  "
      ]
     },
     "execution_count": 21,
     "metadata": {},
     "output_type": "execute_result"
    }
   ],
   "source": [
    "df.head()"
   ]
  },
  {
   "cell_type": "code",
   "execution_count": 22,
   "id": "80169422-4bf3-4d14-ae84-db7988fc5b23",
   "metadata": {},
   "outputs": [
    {
     "data": {
      "text/html": [
       "<div>\n",
       "<style scoped>\n",
       "    .dataframe tbody tr th:only-of-type {\n",
       "        vertical-align: middle;\n",
       "    }\n",
       "\n",
       "    .dataframe tbody tr th {\n",
       "        vertical-align: top;\n",
       "    }\n",
       "\n",
       "    .dataframe thead th {\n",
       "        text-align: right;\n",
       "    }\n",
       "</style>\n",
       "<table border=\"1\" class=\"dataframe\">\n",
       "  <thead>\n",
       "    <tr style=\"text-align: right;\">\n",
       "      <th></th>\n",
       "      <th>Area</th>\n",
       "      <th>Perimeter</th>\n",
       "      <th>Major_Axis_Length</th>\n",
       "      <th>Minor_Axis_Length</th>\n",
       "      <th>Eccentricity</th>\n",
       "      <th>Solidity</th>\n",
       "      <th>Extent</th>\n",
       "      <th>Roundness</th>\n",
       "      <th>Aspect_Ration</th>\n",
       "      <th>Compactness</th>\n",
       "    </tr>\n",
       "  </thead>\n",
       "  <tbody>\n",
       "    <tr>\n",
       "      <th>0</th>\n",
       "      <td>0.119284</td>\n",
       "      <td>0.033709</td>\n",
       "      <td>0.016192</td>\n",
       "      <td>220.2388</td>\n",
       "      <td>0.7376</td>\n",
       "      <td>0.9902</td>\n",
       "      <td>0.7453</td>\n",
       "      <td>0.8963</td>\n",
       "      <td>1.4809</td>\n",
       "      <td>0.8207</td>\n",
       "    </tr>\n",
       "    <tr>\n",
       "      <th>1</th>\n",
       "      <td>0.410519</td>\n",
       "      <td>0.340661</td>\n",
       "      <td>0.294143</td>\n",
       "      <td>234.2289</td>\n",
       "      <td>0.8275</td>\n",
       "      <td>0.9916</td>\n",
       "      <td>0.7151</td>\n",
       "      <td>0.8440</td>\n",
       "      <td>1.7811</td>\n",
       "      <td>0.7487</td>\n",
       "    </tr>\n",
       "    <tr>\n",
       "      <th>2</th>\n",
       "      <td>0.338866</td>\n",
       "      <td>0.365983</td>\n",
       "      <td>0.351048</td>\n",
       "      <td>211.0457</td>\n",
       "      <td>0.8749</td>\n",
       "      <td>0.9857</td>\n",
       "      <td>0.7400</td>\n",
       "      <td>0.7674</td>\n",
       "      <td>2.0651</td>\n",
       "      <td>0.6929</td>\n",
       "    </tr>\n",
       "    <tr>\n",
       "      <th>3</th>\n",
       "      <td>0.264966</td>\n",
       "      <td>0.210828</td>\n",
       "      <td>0.185370</td>\n",
       "      <td>222.5322</td>\n",
       "      <td>0.8123</td>\n",
       "      <td>0.9902</td>\n",
       "      <td>0.7396</td>\n",
       "      <td>0.8486</td>\n",
       "      <td>1.7146</td>\n",
       "      <td>0.7624</td>\n",
       "    </tr>\n",
       "    <tr>\n",
       "      <th>4</th>\n",
       "      <td>0.259944</td>\n",
       "      <td>0.221228</td>\n",
       "      <td>0.192467</td>\n",
       "      <td>220.4545</td>\n",
       "      <td>0.8187</td>\n",
       "      <td>0.9850</td>\n",
       "      <td>0.6752</td>\n",
       "      <td>0.8338</td>\n",
       "      <td>1.7413</td>\n",
       "      <td>0.7557</td>\n",
       "    </tr>\n",
       "    <tr>\n",
       "      <th>...</th>\n",
       "      <td>...</td>\n",
       "      <td>...</td>\n",
       "      <td>...</td>\n",
       "      <td>...</td>\n",
       "      <td>...</td>\n",
       "      <td>...</td>\n",
       "      <td>...</td>\n",
       "      <td>...</td>\n",
       "      <td>...</td>\n",
       "      <td>...</td>\n",
       "    </tr>\n",
       "    <tr>\n",
       "      <th>2495</th>\n",
       "      <td>0.453528</td>\n",
       "      <td>0.607791</td>\n",
       "      <td>0.648153</td>\n",
       "      <td>190.4367</td>\n",
       "      <td>0.9340</td>\n",
       "      <td>0.9907</td>\n",
       "      <td>0.4888</td>\n",
       "      <td>0.6672</td>\n",
       "      <td>2.7996</td>\n",
       "      <td>0.5973</td>\n",
       "    </tr>\n",
       "    <tr>\n",
       "      <th>2496</th>\n",
       "      <td>0.310593</td>\n",
       "      <td>0.368254</td>\n",
       "      <td>0.433809</td>\n",
       "      <td>191.8210</td>\n",
       "      <td>0.9101</td>\n",
       "      <td>0.9919</td>\n",
       "      <td>0.6002</td>\n",
       "      <td>0.7444</td>\n",
       "      <td>2.4134</td>\n",
       "      <td>0.6433</td>\n",
       "    </tr>\n",
       "    <tr>\n",
       "      <th>2497</th>\n",
       "      <td>0.573098</td>\n",
       "      <td>0.583228</td>\n",
       "      <td>0.568987</td>\n",
       "      <td>222.1872</td>\n",
       "      <td>0.8990</td>\n",
       "      <td>0.9920</td>\n",
       "      <td>0.7643</td>\n",
       "      <td>0.7549</td>\n",
       "      <td>2.2828</td>\n",
       "      <td>0.6599</td>\n",
       "    </tr>\n",
       "    <tr>\n",
       "      <th>2498</th>\n",
       "      <td>0.458879</td>\n",
       "      <td>0.536535</td>\n",
       "      <td>0.552765</td>\n",
       "      <td>204.7531</td>\n",
       "      <td>0.9130</td>\n",
       "      <td>0.9890</td>\n",
       "      <td>0.7374</td>\n",
       "      <td>0.7185</td>\n",
       "      <td>2.4513</td>\n",
       "      <td>0.6359</td>\n",
       "    </tr>\n",
       "    <tr>\n",
       "      <th>2499</th>\n",
       "      <td>0.529317</td>\n",
       "      <td>0.497268</td>\n",
       "      <td>0.433667</td>\n",
       "      <td>234.5597</td>\n",
       "      <td>0.8621</td>\n",
       "      <td>0.9901</td>\n",
       "      <td>0.7360</td>\n",
       "      <td>0.7933</td>\n",
       "      <td>1.9735</td>\n",
       "      <td>0.7104</td>\n",
       "    </tr>\n",
       "  </tbody>\n",
       "</table>\n",
       "<p>2482 rows × 10 columns</p>\n",
       "</div>"
      ],
      "text/plain": [
       "          Area  Perimeter  Major_Axis_Length  Minor_Axis_Length  Eccentricity  \\\n",
       "0     0.119284   0.033709           0.016192           220.2388        0.7376   \n",
       "1     0.410519   0.340661           0.294143           234.2289        0.8275   \n",
       "2     0.338866   0.365983           0.351048           211.0457        0.8749   \n",
       "3     0.264966   0.210828           0.185370           222.5322        0.8123   \n",
       "4     0.259944   0.221228           0.192467           220.4545        0.8187   \n",
       "...        ...        ...                ...                ...           ...   \n",
       "2495  0.453528   0.607791           0.648153           190.4367        0.9340   \n",
       "2496  0.310593   0.368254           0.433809           191.8210        0.9101   \n",
       "2497  0.573098   0.583228           0.568987           222.1872        0.8990   \n",
       "2498  0.458879   0.536535           0.552765           204.7531        0.9130   \n",
       "2499  0.529317   0.497268           0.433667           234.5597        0.8621   \n",
       "\n",
       "      Solidity  Extent  Roundness  Aspect_Ration  Compactness  \n",
       "0       0.9902  0.7453     0.8963         1.4809       0.8207  \n",
       "1       0.9916  0.7151     0.8440         1.7811       0.7487  \n",
       "2       0.9857  0.7400     0.7674         2.0651       0.6929  \n",
       "3       0.9902  0.7396     0.8486         1.7146       0.7624  \n",
       "4       0.9850  0.6752     0.8338         1.7413       0.7557  \n",
       "...        ...     ...        ...            ...          ...  \n",
       "2495    0.9907  0.4888     0.6672         2.7996       0.5973  \n",
       "2496    0.9919  0.6002     0.7444         2.4134       0.6433  \n",
       "2497    0.9920  0.7643     0.7549         2.2828       0.6599  \n",
       "2498    0.9890  0.7374     0.7185         2.4513       0.6359  \n",
       "2499    0.9901  0.7360     0.7933         1.9735       0.7104  \n",
       "\n",
       "[2482 rows x 10 columns]"
      ]
     },
     "execution_count": 22,
     "metadata": {},
     "output_type": "execute_result"
    }
   ],
   "source": [
    "#splitting the data into X and Y\n",
    "X=df.drop('Class',axis = 1)\n",
    "X"
   ]
  },
  {
   "cell_type": "code",
   "execution_count": 23,
   "id": "d8487ef7-3ab6-4c5e-aea0-ac0bcc7ab496",
   "metadata": {},
   "outputs": [
    {
     "data": {
      "text/plain": [
       "0          Çerçevelik\n",
       "1          Çerçevelik\n",
       "2          Çerçevelik\n",
       "3          Çerçevelik\n",
       "4          Çerçevelik\n",
       "            ...      \n",
       "2495    Ürgüp Sivrisi\n",
       "2496    Ürgüp Sivrisi\n",
       "2497    Ürgüp Sivrisi\n",
       "2498    Ürgüp Sivrisi\n",
       "2499    Ürgüp Sivrisi\n",
       "Name: Class, Length: 2482, dtype: object"
      ]
     },
     "execution_count": 23,
     "metadata": {},
     "output_type": "execute_result"
    }
   ],
   "source": [
    "Y=df['Class']\n",
    "Y"
   ]
  },
  {
   "cell_type": "code",
   "execution_count": 24,
   "id": "cd7b7610-bc95-4ae5-be90-910a94186c2c",
   "metadata": {},
   "outputs": [],
   "source": [
    "#splitting into training and testing dataset\n",
    "from sklearn.model_selection import train_test_split\n",
    "X_train,X_test,Y_train,Y_test=train_test_split(X,Y,test_size=0.2,random_state=30)"
   ]
  },
  {
   "cell_type": "code",
   "execution_count": 25,
   "id": "919688c8-e856-4e3d-b4f9-318fe1fb51ff",
   "metadata": {},
   "outputs": [
    {
     "name": "stdout",
     "output_type": "stream",
     "text": [
      "(1985, 10)\n",
      "(497, 10)\n",
      "(1985,)\n",
      "(497,)\n"
     ]
    }
   ],
   "source": [
    "print(X_train.shape)\n",
    "print(X_test.shape)\n",
    "print(Y_train.shape)\n",
    "print(Y_test.shape)"
   ]
  },
  {
   "cell_type": "code",
   "execution_count": 26,
   "id": "813c6e19-e158-41a1-a441-09bc2e0bf268",
   "metadata": {},
   "outputs": [],
   "source": [
    "from sklearn.linear_model import LogisticRegression\n",
    "from sklearn.metrics import accuracy_score\n",
    "from sklearn.metrics import classification_report"
   ]
  },
  {
   "cell_type": "code",
   "execution_count": 27,
   "id": "3f8a8c23-9443-44e6-ba40-a1f36db9631d",
   "metadata": {},
   "outputs": [],
   "source": [
    "logistic_regression=LogisticRegression()\n",
    "logistic_regression.fit(X_train,Y_train)\n",
    "Y_pred=logistic_regression.predict(X_test)"
   ]
  },
  {
   "cell_type": "code",
   "execution_count": 28,
   "id": "5185a312-cfe9-4b19-81c3-d4991df6206d",
   "metadata": {},
   "outputs": [],
   "source": [
    "acc_lr=accuracy_score(Y_test,Y_pred)\n",
    "c_lr=classification_report(Y_test,Y_pred)"
   ]
  },
  {
   "cell_type": "code",
   "execution_count": 29,
   "id": "9de9d401-59a9-46bb-a729-8edb70141817",
   "metadata": {},
   "outputs": [
    {
     "name": "stdout",
     "output_type": "stream",
     "text": [
      "Accuracy Score: 0.869215291750503\n",
      "               precision    recall  f1-score   support\n",
      "\n",
      "   Çerçevelik       0.85      0.91      0.88       257\n",
      "Ürgüp Sivrisi       0.89      0.83      0.86       240\n",
      "\n",
      "     accuracy                           0.87       497\n",
      "    macro avg       0.87      0.87      0.87       497\n",
      " weighted avg       0.87      0.87      0.87       497\n",
      "\n"
     ]
    }
   ],
   "source": [
    "print('Accuracy Score:',acc_lr)\n",
    "print(c_lr)"
   ]
  },
  {
   "cell_type": "code",
   "execution_count": 30,
   "id": "9cf503f4-87c9-47a0-b3e4-f47c75e0e415",
   "metadata": {},
   "outputs": [],
   "source": [
    "from sklearn.ensemble import RandomForestClassifier"
   ]
  },
  {
   "cell_type": "code",
   "execution_count": 31,
   "id": "b2f6bbe4-07fe-4e82-8105-fa32024e9c66",
   "metadata": {},
   "outputs": [],
   "source": [
    "random_forest=RandomForestClassifier()\n",
    "random_forest.fit(X_train,Y_train)\n",
    "Y_pred=random_forest.predict(X_test)"
   ]
  },
  {
   "cell_type": "code",
   "execution_count": 32,
   "id": "d295ad72-d921-4548-9c8e-8a670d6a1e17",
   "metadata": {},
   "outputs": [],
   "source": [
    "acc_rf=accuracy_score(Y_test,Y_pred)\n",
    "c_rf=classification_report(Y_test,Y_pred)"
   ]
  },
  {
   "cell_type": "code",
   "execution_count": 33,
   "id": "c1ede040-1d29-4b05-b4ed-6f8bb2918d8c",
   "metadata": {},
   "outputs": [
    {
     "name": "stdout",
     "output_type": "stream",
     "text": [
      "Accuracy Score: 0.8752515090543259\n",
      "               precision    recall  f1-score   support\n",
      "\n",
      "   Çerçevelik       0.86      0.91      0.88       257\n",
      "Ürgüp Sivrisi       0.90      0.84      0.87       240\n",
      "\n",
      "     accuracy                           0.88       497\n",
      "    macro avg       0.88      0.87      0.87       497\n",
      " weighted avg       0.88      0.88      0.87       497\n",
      "\n"
     ]
    }
   ],
   "source": [
    "print('Accuracy Score:',acc_rf)\n",
    "print(c_rf)"
   ]
  },
  {
   "cell_type": "code",
   "execution_count": 34,
   "id": "e4c0fd01-b597-4192-a057-b8f6ffa1a709",
   "metadata": {},
   "outputs": [],
   "source": [
    "from sklearn.tree import DecisionTreeClassifier"
   ]
  },
  {
   "cell_type": "code",
   "execution_count": 35,
   "id": "22e1c692-f84d-4aae-87ab-ad88e5987cec",
   "metadata": {},
   "outputs": [],
   "source": [
    "decision_tree_model=DecisionTreeClassifier()\n",
    "decision_tree_model.fit(X_train,Y_train)\n",
    "Y_pred=decision_tree_model.predict(X_test)"
   ]
  },
  {
   "cell_type": "code",
   "execution_count": 36,
   "id": "fab6cb6e-2b09-45da-b73b-664db2b67fb7",
   "metadata": {},
   "outputs": [],
   "source": [
    "acc_dt=accuracy_score(Y_test,Y_pred)\n",
    "c_dt=classification_report(Y_test,Y_pred)"
   ]
  },
  {
   "cell_type": "code",
   "execution_count": 37,
   "id": "813ac1de-2105-4ad4-953d-e8b4b11355cb",
   "metadata": {},
   "outputs": [
    {
     "name": "stdout",
     "output_type": "stream",
     "text": [
      "Accuracy Score: 0.8289738430583501\n",
      "               precision    recall  f1-score   support\n",
      "\n",
      "   Çerçevelik       0.81      0.87      0.84       257\n",
      "Ürgüp Sivrisi       0.85      0.78      0.82       240\n",
      "\n",
      "     accuracy                           0.83       497\n",
      "    macro avg       0.83      0.83      0.83       497\n",
      " weighted avg       0.83      0.83      0.83       497\n",
      "\n"
     ]
    }
   ],
   "source": [
    "print('Accuracy Score:',acc_dt)\n",
    "print(c_dt)"
   ]
  },
  {
   "cell_type": "code",
   "execution_count": 38,
   "id": "83270867-d179-45e8-b7d2-6ebee8cd6060",
   "metadata": {},
   "outputs": [],
   "source": [
    "from sklearn.naive_bayes import MultinomialNB"
   ]
  },
  {
   "cell_type": "code",
   "execution_count": 39,
   "id": "8705f78f-de6a-4590-aac8-284a4dce9aa1",
   "metadata": {},
   "outputs": [],
   "source": [
    "NB=MultinomialNB()\n",
    "NB.fit(X_train,Y_train)\n",
    "Y_pred=NB.predict(X_test)"
   ]
  },
  {
   "cell_type": "code",
   "execution_count": 40,
   "id": "217406be-45be-4f96-ad0c-ff9d6b7bda9c",
   "metadata": {},
   "outputs": [],
   "source": [
    "acc_nb=accuracy_score(Y_test,Y_pred)\n",
    "c_nb=classification_report(Y_test,Y_pred)"
   ]
  },
  {
   "cell_type": "code",
   "execution_count": 41,
   "id": "1a0f671f-d9fb-49d5-a0b3-92adfe424d5d",
   "metadata": {},
   "outputs": [
    {
     "name": "stdout",
     "output_type": "stream",
     "text": [
      "Accuracy Score: 0.8148893360160966\n",
      "               precision    recall  f1-score   support\n",
      "\n",
      "   Çerçevelik       0.75      0.95      0.84       257\n",
      "Ürgüp Sivrisi       0.93      0.67      0.78       240\n",
      "\n",
      "     accuracy                           0.81       497\n",
      "    macro avg       0.84      0.81      0.81       497\n",
      " weighted avg       0.84      0.81      0.81       497\n",
      "\n"
     ]
    }
   ],
   "source": [
    "print('Accuracy Score:',acc_nb)\n",
    "print(c_nb)"
   ]
  },
  {
   "cell_type": "code",
   "execution_count": 42,
   "id": "f391ee60-843c-4eae-b380-db97e8ca95c3",
   "metadata": {},
   "outputs": [],
   "source": [
    "from sklearn.svm import SVC"
   ]
  },
  {
   "cell_type": "code",
   "execution_count": 43,
   "id": "f267ca65-0fac-4367-9c01-6687634e3472",
   "metadata": {},
   "outputs": [],
   "source": [
    "support_vector=SVC()\n",
    "support_vector.fit(X_train,Y_train)\n",
    "Y_pred=support_vector.predict(X_test)"
   ]
  },
  {
   "cell_type": "code",
   "execution_count": 44,
   "id": "527ae72c-b2d8-45ae-8f03-bf4be620d32d",
   "metadata": {},
   "outputs": [],
   "source": [
    "acc_svc=accuracy_score(Y_test,Y_pred)\n",
    "c_svc=classification_report(Y_test,Y_pred)"
   ]
  },
  {
   "cell_type": "code",
   "execution_count": 45,
   "id": "258f6b27-7ac9-4ee9-80e0-3faf72c0ee5e",
   "metadata": {},
   "outputs": [
    {
     "name": "stdout",
     "output_type": "stream",
     "text": [
      "Accuracy Score: 0.6680080482897385\n",
      "               precision    recall  f1-score   support\n",
      "\n",
      "   Çerçevelik       0.64      0.80      0.71       257\n",
      "Ürgüp Sivrisi       0.71      0.53      0.60       240\n",
      "\n",
      "     accuracy                           0.67       497\n",
      "    macro avg       0.68      0.66      0.66       497\n",
      " weighted avg       0.68      0.67      0.66       497\n",
      "\n"
     ]
    }
   ],
   "source": [
    "print('Accuracy Score:',acc_svc)\n",
    "print(c_svc)"
   ]
  },
  {
   "cell_type": "code",
   "execution_count": 46,
   "id": "d0c1b855-66ea-4c13-9705-a68fb8f350f8",
   "metadata": {},
   "outputs": [],
   "source": [
    "from sklearn.ensemble import GradientBoostingClassifier"
   ]
  },
  {
   "cell_type": "code",
   "execution_count": 47,
   "id": "99646f99-f2c5-4422-9012-4946fc4b1b10",
   "metadata": {},
   "outputs": [],
   "source": [
    "GBC=GradientBoostingClassifier()\n",
    "GBC.fit(X_train,Y_train)\n",
    "Y_pred=GBC.predict(X_test)"
   ]
  },
  {
   "cell_type": "code",
   "execution_count": 48,
   "id": "dbb75803-df44-4174-98bb-965c8ca44311",
   "metadata": {},
   "outputs": [],
   "source": [
    "acc_gbc=accuracy_score(Y_test,Y_pred)\n",
    "c_gbc=classification_report(Y_test,Y_pred)"
   ]
  },
  {
   "cell_type": "code",
   "execution_count": 49,
   "id": "bbffecf5-5259-4b41-9e90-4c89e5f9dc39",
   "metadata": {},
   "outputs": [
    {
     "name": "stdout",
     "output_type": "stream",
     "text": [
      "Accuracy Score: 0.8832997987927566\n",
      "               precision    recall  f1-score   support\n",
      "\n",
      "   Çerçevelik       0.86      0.92      0.89       257\n",
      "Ürgüp Sivrisi       0.91      0.85      0.88       240\n",
      "\n",
      "     accuracy                           0.88       497\n",
      "    macro avg       0.89      0.88      0.88       497\n",
      " weighted avg       0.88      0.88      0.88       497\n",
      "\n"
     ]
    }
   ],
   "source": [
    "print('Accuracy Score:',acc_gbc)\n",
    "print(c_gbc)"
   ]
  },
  {
   "cell_type": "code",
   "execution_count": 50,
   "id": "34413dd2-caac-4a46-a07e-1ac92c6d3e2e",
   "metadata": {},
   "outputs": [
    {
     "name": "stderr",
     "output_type": "stream",
     "text": [
      "c:\\Users\\LENOVO\\anaconda3\\Lib\\site-packages\\sklearn\\base.py:439: UserWarning: X does not have valid feature names, but RandomForestClassifier was fitted with feature names\n",
      "  warnings.warn(\n"
     ]
    }
   ],
   "source": [
    "prediction=random_forest.predict([[\t0.410519,0.340661,0.294143,234.2289,77280,312.3614,0.8275,0.9916,0.7151,0.8440]])"
   ]
  },
  {
   "cell_type": "code",
   "execution_count": 51,
   "id": "d8e47048-5b1a-422c-ae95-d15d1a84e995",
   "metadata": {},
   "outputs": [
    {
     "data": {
      "text/plain": [
       "'Ürgüp Sivrisi'"
      ]
     },
     "execution_count": 51,
     "metadata": {},
     "output_type": "execute_result"
    }
   ],
   "source": [
    "prediction[0]"
   ]
  },
  {
   "cell_type": "code",
   "execution_count": 52,
   "id": "f59c54b5-0949-4321-b297-103f486c36dc",
   "metadata": {},
   "outputs": [],
   "source": [
    "if prediction[0]==0:\n",
    "  print(\"Your seed lies in cercevelik class\")\n",
    "elif prediction[0]==1:\n",
    "  print(\"Your seed lies in Urgup Sivrisi class\")"
   ]
  },
  {
   "cell_type": "code",
   "execution_count": 53,
   "id": "030d2ade-621f-4faf-9f3f-cf842797a017",
   "metadata": {},
   "outputs": [],
   "source": [
    "model = pd.DataFrame({'Model':['Linear Regression','Decision Tree Classifier','RandomForest Classifier',\n",
    "                              'Multinomial Navie Bayes','Support Vector Classifier', 'Gradient Boost Classifier'],\n",
    "                     'Score':[acc_lr,acc_dt,acc_rf,acc_nb,acc_svc,acc_gbc],})"
   ]
  },
  {
   "cell_type": "code",
   "execution_count": 54,
   "id": "61f56505-e2c2-468f-87e5-ba2ae9c19d40",
   "metadata": {},
   "outputs": [
    {
     "data": {
      "text/html": [
       "<div>\n",
       "<style scoped>\n",
       "    .dataframe tbody tr th:only-of-type {\n",
       "        vertical-align: middle;\n",
       "    }\n",
       "\n",
       "    .dataframe tbody tr th {\n",
       "        vertical-align: top;\n",
       "    }\n",
       "\n",
       "    .dataframe thead th {\n",
       "        text-align: right;\n",
       "    }\n",
       "</style>\n",
       "<table border=\"1\" class=\"dataframe\">\n",
       "  <thead>\n",
       "    <tr style=\"text-align: right;\">\n",
       "      <th></th>\n",
       "      <th>Model</th>\n",
       "      <th>Score</th>\n",
       "    </tr>\n",
       "  </thead>\n",
       "  <tbody>\n",
       "    <tr>\n",
       "      <th>0</th>\n",
       "      <td>Linear Regression</td>\n",
       "      <td>0.869215</td>\n",
       "    </tr>\n",
       "    <tr>\n",
       "      <th>1</th>\n",
       "      <td>Decision Tree Classifier</td>\n",
       "      <td>0.828974</td>\n",
       "    </tr>\n",
       "    <tr>\n",
       "      <th>2</th>\n",
       "      <td>RandomForest Classifier</td>\n",
       "      <td>0.875252</td>\n",
       "    </tr>\n",
       "    <tr>\n",
       "      <th>3</th>\n",
       "      <td>Multinomial Navie Bayes</td>\n",
       "      <td>0.814889</td>\n",
       "    </tr>\n",
       "    <tr>\n",
       "      <th>4</th>\n",
       "      <td>Support Vector Classifier</td>\n",
       "      <td>0.668008</td>\n",
       "    </tr>\n",
       "    <tr>\n",
       "      <th>5</th>\n",
       "      <td>Gradient Boost Classifier</td>\n",
       "      <td>0.883300</td>\n",
       "    </tr>\n",
       "  </tbody>\n",
       "</table>\n",
       "</div>"
      ],
      "text/plain": [
       "                       Model     Score\n",
       "0          Linear Regression  0.869215\n",
       "1   Decision Tree Classifier  0.828974\n",
       "2    RandomForest Classifier  0.875252\n",
       "3    Multinomial Navie Bayes  0.814889\n",
       "4  Support Vector Classifier  0.668008\n",
       "5  Gradient Boost Classifier  0.883300"
      ]
     },
     "execution_count": 54,
     "metadata": {},
     "output_type": "execute_result"
    }
   ],
   "source": [
    "model"
   ]
  },
  {
   "cell_type": "code",
   "execution_count": 55,
   "id": "7211aec0-dfbf-4570-80da-f0e5edeae7e2",
   "metadata": {},
   "outputs": [],
   "source": [
    "import pickle\n",
    "import warnings\n",
    "pickle.dump(random_forest,open(\"model.pkl\",\"wb\"))"
   ]
  },
  {
   "cell_type": "code",
   "execution_count": null,
   "id": "60b18eff-9f2c-4d76-8c4f-f306ecf21fc6",
   "metadata": {},
   "outputs": [],
   "source": []
  }
 ],
 "metadata": {
  "kernelspec": {
   "display_name": "Python 3 (ipykernel)",
   "language": "python",
   "name": "python3"
  },
  "language_info": {
   "codemirror_mode": {
    "name": "ipython",
    "version": 3
   },
   "file_extension": ".py",
   "mimetype": "text/x-python",
   "name": "python",
   "nbconvert_exporter": "python",
   "pygments_lexer": "ipython3",
   "version": "3.11.7"
  }
 },
 "nbformat": 4,
 "nbformat_minor": 5
}
